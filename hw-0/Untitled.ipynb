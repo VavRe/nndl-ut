{
 "cells": [
  {
   "cell_type": "code",
   "execution_count": null,
   "id": "50bbc55d-22d9-4fe1-91c3-deabcb41e19e",
   "metadata": {},
   "outputs": [],
   "source": []
  }
 ],
 "metadata": {
  "kernelspec": {
   "display_name": "",
   "name": ""
  },
  "language_info": {
   "name": ""
  }
 },
 "nbformat": 4,
 "nbformat_minor": 5
}
