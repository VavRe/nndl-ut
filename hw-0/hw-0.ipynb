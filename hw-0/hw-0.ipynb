{
 "cells": [
  {
   "cell_type": "code",
   "execution_count": 11,
   "id": "49028d34-7d28-43c7-8922-e08583e163a8",
   "metadata": {},
   "outputs": [
    {
     "data": {
      "text/plain": [
       "[0, 4, 16, 36, 64]"
      ]
     },
     "execution_count": 11,
     "metadata": {},
     "output_type": "execute_result"
    }
   ],
   "source": [
    "first_list = [i for i in range(10)]\n",
    "second_list = [ i**2 for i in first_list if i%2==0 ]\n",
    "second_list"
   ]
  },
  {
   "cell_type": "code",
   "execution_count": 12,
   "id": "1938d9cc-fc77-4c5e-8f84-a193581141c3",
   "metadata": {},
   "outputs": [
    {
     "data": {
      "text/plain": [
       "[0, 4, 16, 36, 64]"
      ]
     },
     "execution_count": 12,
     "metadata": {},
     "output_type": "execute_result"
    }
   ],
   "source": [
    "first_list = []\n",
    "for i in range(10):\n",
    "    first_list.append(i)\n",
    "second_list = []\n",
    "for i in first_list:\n",
    "    if ( i%2 == 0 ):\n",
    "        second_list.append(i**2)\n",
    "second_list\n",
    "        "
   ]
  },
  {
   "cell_type": "code",
   "execution_count": 17,
   "id": "91ef046f-a6d5-47a4-8114-baf2851c4202",
   "metadata": {},
   "outputs": [
    {
     "data": {
      "text/plain": [
       "array([[1., 2., 3.],\n",
       "       [1., 2., 3.],\n",
       "       [1., 2., 3.]])"
      ]
     },
     "execution_count": 17,
     "metadata": {},
     "output_type": "execute_result"
    }
   ],
   "source": [
    "import numpy as np\n",
    "a = np.array([0, 1, 2])\n",
    "M = np.ones((3, 3))\n",
    "M + a\n"
   ]
  },
  {
   "cell_type": "code",
   "execution_count": 18,
   "id": "9dc239ad-63e8-45b6-ba9e-04570523605d",
   "metadata": {},
   "outputs": [
    {
     "data": {
      "text/plain": [
       "array([[1, 1, 1, 1],\n",
       "       [2, 2, 2, 2],\n",
       "       [3, 3, 3, 3],\n",
       "       [4, 4, 4, 4],\n",
       "       [5, 5, 5, 5]])"
      ]
     },
     "execution_count": 18,
     "metadata": {},
     "output_type": "execute_result"
    }
   ],
   "source": [
    "import numpy as np\n",
    "b = np.array([1, 2, 3, 4, 5])\n",
    "np.tile(b.reshape(5, 1), (1, 4))"
   ]
  },
  {
   "cell_type": "code",
   "execution_count": 20,
   "id": "e4e7d566-deda-44b2-8853-f1603bcdfd11",
   "metadata": {},
   "outputs": [
    {
     "data": {
      "text/plain": [
       "2"
      ]
     },
     "execution_count": 20,
     "metadata": {},
     "output_type": "execute_result"
    }
   ],
   "source": [
    "import numpy as np\n",
    "x = np.array([1, 2, 3])\n",
    "x[1]"
   ]
  },
  {
   "cell_type": "code",
   "execution_count": 24,
   "id": "890af4ce-f08a-4bb4-9766-6468ff558fd2",
   "metadata": {},
   "outputs": [
    {
     "data": {
      "text/plain": [
       "array([ 0.        ,  0.09983342,  0.19866933,  0.29552021,  0.38941834,\n",
       "        0.47942554,  0.56464247,  0.64421769,  0.71735609,  0.78332691,\n",
       "        0.84147098,  0.89120736,  0.93203909,  0.96355819,  0.98544973,\n",
       "        0.99749499,  0.9995736 ,  0.99166481,  0.97384763,  0.94630009,\n",
       "        0.90929743,  0.86320937,  0.8084964 ,  0.74570521,  0.67546318,\n",
       "        0.59847214,  0.51550137,  0.42737988,  0.33498815,  0.23924933,\n",
       "        0.14112001,  0.04158066, -0.05837414, -0.15774569, -0.2555411 ,\n",
       "       -0.35078323, -0.44252044, -0.52983614, -0.61185789, -0.68776616,\n",
       "       -0.7568025 , -0.81827711, -0.87157577, -0.91616594, -0.95160207,\n",
       "       -0.97753012, -0.993691  , -0.99992326, -0.99616461, -0.98245261,\n",
       "       -0.95892427, -0.92581468, -0.88345466, -0.83226744, -0.77276449,\n",
       "       -0.70554033, -0.63126664, -0.55068554, -0.46460218, -0.37387666,\n",
       "       -0.2794155 , -0.1821625 , -0.0830894 ,  0.0168139 ,  0.1165492 ,\n",
       "        0.21511999,  0.31154136,  0.40484992,  0.49411335,  0.57843976,\n",
       "        0.6569866 ,  0.72896904,  0.79366786,  0.85043662,  0.8987081 ,\n",
       "        0.93799998,  0.96791967,  0.98816823,  0.99854335,  0.99894134,\n",
       "        0.98935825,  0.96988981,  0.94073056,  0.90217183,  0.85459891,\n",
       "        0.79848711,  0.7343971 ,  0.66296923,  0.58491719,  0.50102086,\n",
       "        0.41211849,  0.31909836,  0.22288991,  0.12445442,  0.02477543,\n",
       "       -0.07515112, -0.17432678, -0.27176063, -0.36647913, -0.45753589])"
      ]
     },
     "execution_count": 24,
     "metadata": {},
     "output_type": "execute_result"
    }
   ],
   "source": [
    "import numpy as np\n",
    "time = np.arange(0, 10, 0.1)  # time values of wave \n",
    "x = np.sin(time)          \t    # Amplitude of wave\n",
    "x"
   ]
  },
  {
   "cell_type": "code",
   "execution_count": 25,
   "id": "ac6bba68-02fa-4078-85e9-fc4fcbeebc44",
   "metadata": {},
   "outputs": [
    {
     "data": {
      "text/plain": [
       "'y'"
      ]
     },
     "execution_count": 25,
     "metadata": {},
     "output_type": "execute_result"
    }
   ],
   "source": [
    "word = 'Python'\n",
    "word[1]"
   ]
  },
  {
   "cell_type": "code",
   "execution_count": 29,
   "id": "e7c64bc5-242c-4d06-82f6-3d69f1500e0b",
   "metadata": {},
   "outputs": [
    {
     "data": {
      "text/plain": [
       "['Parrot', 'Crow', 'Sparrow', 'Crow', 'Eagle']"
      ]
     },
     "execution_count": 29,
     "metadata": {},
     "output_type": "execute_result"
    }
   ],
   "source": [
    "mybirds =[\"Parrot\", \"Sparrow\", \"Crow\", \"Eagle\"] \n",
    "mybirds.insert(1,\"Crow\")  \n",
    "mybirds"
   ]
  },
  {
   "cell_type": "code",
   "execution_count": 32,
   "id": "cfe63c57-3348-41b2-8c38-6cb385384260",
   "metadata": {},
   "outputs": [
    {
     "data": {
      "text/plain": [
       "c    5\n",
       "dtype: int64"
      ]
     },
     "execution_count": 32,
     "metadata": {},
     "output_type": "execute_result"
    }
   ],
   "source": [
    "import pandas as pd\n",
    "myseries2 = pd.Series([1, -3, 5, 20], index =[\"a\", \"b\", \"c\", \"d\"]) \n",
    "myseries2[2:3]"
   ]
  },
  {
   "cell_type": "code",
   "execution_count": 43,
   "id": "60afe2b2-5908-421d-9d24-d9909366e7f0",
   "metadata": {},
   "outputs": [
    {
     "name": "stdout",
     "output_type": "stream",
     "text": [
      "[1, 2, 3, 4, 5, 6, 7, 8, 9, 10]\n",
      "[1, 2, 3, 4, 5, 6, 7, 8, 10]\n"
     ]
    }
   ],
   "source": [
    "numbers = [i for i in range(1,11) ]\n",
    "print(numbers)\n",
    "del numbers[-2]\n",
    "print(numbers)"
   ]
  },
  {
   "cell_type": "code",
   "execution_count": 66,
   "id": "2afe6257-9169-42a0-a8bb-e2f00a67b82b",
   "metadata": {},
   "outputs": [
    {
     "name": "stdout",
     "output_type": "stream",
     "text": [
      "3\n",
      "140348383838512\n",
      "6\n",
      "140348383838608\n"
     ]
    }
   ],
   "source": [
    "a = 3\n",
    "id(a)\n",
    "b = 6\n",
    "print(a)\n",
    "print(id(a))\n",
    "id(a)\n",
    "a = b \n",
    "id(a)\n",
    "print(a)\n",
    "print(id(a))\n"
   ]
  },
  {
   "cell_type": "code",
   "execution_count": 75,
   "id": "0020dce3-6804-4922-adaa-ea363893d336",
   "metadata": {},
   "outputs": [
    {
     "name": "stdout",
     "output_type": "stream",
     "text": [
      "Sampling rows: 0, Retrieved data sunday\n",
      "\n",
      "Sampling rows: 4, Retrieved data thursday\n",
      "\n"
     ]
    }
   ],
   "source": [
    "n = 4 \n",
    "myfile = open('week.txt')\n",
    "for k, observation in enumerate(myfile): \n",
    "        if k % n==0: \n",
    "            print(\"Sampling rows: \" + str(k) + \", Retrieved data \" + observation)\n"
   ]
  },
  {
   "cell_type": "code",
   "execution_count": 82,
   "id": "c70218dc-b496-40c8-a7c9-d574ab5e9c24",
   "metadata": {},
   "outputs": [
    {
     "name": "stdout",
     "output_type": "stream",
     "text": [
      "   id      name  age  subjects\n",
      "0  58    sravan   22      java\n",
      "1  59  jyothika   21       php\n",
      "2  60   preethi   22       sql\n",
      "3  61   srinadh   23  r/python\n",
      "   id      name  age  subjects\n",
      "0  58    sravan   22      java\n",
      "1  59  jyothika   21       php\n",
      "2  60   preethi   22       sql\n",
      "3  61   srinadh   23  r/python\n"
     ]
    }
   ],
   "source": [
    "import pandas as pd\n",
    "# Create dataframe for students\n",
    "df=pd.DataFrame({'id':[58,59,60,61],\n",
    "                 'name':['sravan','jyothika','preethi','srinadh'],\n",
    "                 'age':[22,21,22,23],\n",
    "                 'subjects':['java','php','sql','r/python']})\n",
    "# Display dataframe\n",
    "print(df)\n",
    "df.reset_index(drop=True,inplace=True)\n",
    "df.\n",
    "print(df)"
   ]
  },
  {
   "cell_type": "code",
   "execution_count": 116,
   "id": "10afccc6-ac15-43bb-b902-4b36b076d8f8",
   "metadata": {},
   "outputs": [
    {
     "name": "stdout",
     "output_type": "stream",
     "text": [
      "\n",
      "=================\n",
      "array of 1 to 100\n",
      "=================\n",
      "\n",
      "[1, 2, 3, 4, 5, 6, 7, 8, 9, 10, 11, 12, 13, 14, 15, 16, 17, 18, 19, 20, 21, 22, 23, 24, 25, 26, 27, 28, 29, 30, 31, 32, 33, 34, 35, 36, 37, 38, 39, 40, 41, 42, 43, 44, 45, 46, 47, 48, 49, 50, 51, 52, 53, 54, 55, 56, 57, 58, 59, 60, 61, 62, 63, 64, 65, 66, 67, 68, 69, 70, 71, 72, 73, 74, 75, 76, 77, 78, 79, 80, 81, 82, 83, 84, 85, 86, 87, 88, 89, 90, 91, 92, 93, 94, 95, 96, 97, 98, 99, 100]\n",
      "\n",
      "===================\n",
      "four random numbers\n",
      "===================\n",
      "\n",
      "22\n",
      "11\n",
      "33\n",
      "77\n"
     ]
    }
   ],
   "source": [
    "from numpy import random\n",
    "print(\"\"\"\n",
    "=================\n",
    "array of 1 to 100\n",
    "=================\n",
    "\"\"\")\n",
    "one_to_hunderd = [_ for _ in range(1,101)]\n",
    "print(one_to_hunderd)\n",
    "print(\"\"\"\n",
    "===================\n",
    "four random numbers\n",
    "===================\n",
    "\"\"\")\n",
    "for _ in range(4):\n",
    "    print(one_to_hunderd[random.randint(100)])"
   ]
  }
 ],
 "metadata": {
  "kernelspec": {
   "display_name": "Python 3 (ipykernel)",
   "language": "python",
   "name": "python3"
  },
  "language_info": {
   "codemirror_mode": {
    "name": "ipython",
    "version": 3
   },
   "file_extension": ".py",
   "mimetype": "text/x-python",
   "name": "python",
   "nbconvert_exporter": "python",
   "pygments_lexer": "ipython3",
   "version": "3.10.6"
  }
 },
 "nbformat": 4,
 "nbformat_minor": 5
}
