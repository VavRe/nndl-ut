{
  "nbformat": 4,
  "nbformat_minor": 0,
  "metadata": {
    "colab": {
      "provenance": [],
      "collapsed_sections": []
    },
    "kernelspec": {
      "name": "python3",
      "display_name": "Python 3"
    },
    "language_info": {
      "name": "python"
    }
  },
  "cells": [
    {
      "cell_type": "markdown",
      "source": [
        "#AdaLine"
      ],
      "metadata": {
        "id": "WApzxBJ2xazq"
      }
    },
    {
      "cell_type": "code",
      "execution_count": null,
      "metadata": {
        "id": "Bmq3XE3VxUcL"
      },
      "outputs": [],
      "source": [
        "import numpy as np\n",
        "import matplotlib.pyplot as plt"
      ]
    },
    {
      "cell_type": "markdown",
      "source": [
        "##a."
      ],
      "metadata": {
        "id": "12KAdb19MMaK"
      }
    },
    {
      "cell_type": "code",
      "source": [
        "mean1a = [1, 1]\n",
        "cov1a = [[0.3, 0], [0, 0.3]]\n",
        "x1a, y1a = np.random.multivariate_normal(mean1a, cov1a, 100).T"
      ],
      "metadata": {
        "id": "7phk8lm-zbZD"
      },
      "execution_count": null,
      "outputs": []
    },
    {
      "cell_type": "code",
      "source": [
        "mean2a = [-1, -1]\n",
        "cov2a = [[0.3, 0], [0, 0.3]]\n",
        "x2a, y2a = np.random.multivariate_normal(mean2a, cov2a, 100).T"
      ],
      "metadata": {
        "id": "rMD5aBN112LY"
      },
      "execution_count": null,
      "outputs": []
    },
    {
      "cell_type": "code",
      "source": [
        "plt.scatter(x1a, y1a, color='r', label='class1')\n",
        "plt.scatter(x2a, y2a, color='b', label='class2')\n",
        "plt.xlabel('x')\n",
        "plt.ylabel('y')\n",
        "plt.legend()\n",
        "plt.show()"
      ],
      "metadata": {
        "colab": {
          "base_uri": "https://localhost:8080/",
          "height": 279
        },
        "id": "z9Gsp0K61jpH",
        "outputId": "b895d9bb-55f2-4eab-bbda-b1e43314b036"
      },
      "execution_count": null,
      "outputs": [
        {
          "output_type": "display_data",
          "data": {
            "text/plain": [
              "<Figure size 432x288 with 1 Axes>"
            ],
            "image/png": "[encoded data removed]"
          },
          "metadata": {
            "needs_background": "light"
          }
        }
      ]
    },
    {
      "cell_type": "code",
      "source": [
        "# Class one:1, Class 2:-1\n",
        "t1a = np.ones_like(x1a)\n",
        "t2a = np.ones_like(x2a)*-1"
      ],
      "metadata": {
        "id": "3wlMzNj1MFUz"
      },
      "execution_count": null,
      "outputs": []
    },
    {
      "cell_type": "code",
      "source": [
        "Xa = np.append(x1a, x2a)\n",
        "ya = np.append(y1a, y2a)\n",
        "t_a = np.append(t1a, t2a)\n",
        "\n",
        "t_a.shape"
      ],
      "metadata": {
        "colab": {
          "base_uri": "https://localhost:8080/"
        },
        "id": "RWQAL9jlveCY",
        "outputId": "291f6ab3-b189-4988-9bdd-d593678ff36f"
      },
      "execution_count": null,
      "outputs": [
        {
          "output_type": "execute_result",
          "data": {
            "text/plain": [
              "(200,)"
            ]
          },
          "metadata": {},
          "execution_count": 87
        }
      ]
    },
    {
      "cell_type": "code",
      "source": [
        "data_a = np.stack((Xa, ya), axis=-1)\n",
        "data_a.shape"
      ],
      "metadata": {
        "colab": {
          "base_uri": "https://localhost:8080/"
        },
        "id": "CbXOpNwa2hhB",
        "outputId": "9be2d1bf-ea32-485e-f41f-5fd7c0108559"
      },
      "execution_count": null,
      "outputs": [
        {
          "output_type": "execute_result",
          "data": {
            "text/plain": [
              "(200, 2)"
            ]
          },
          "metadata": {},
          "execution_count": 79
        }
      ]
    },
    {
      "cell_type": "markdown",
      "source": [
        "##b."
      ],
      "metadata": {
        "id": "mjky5JQ6MP8R"
      }
    },
    {
      "cell_type": "code",
      "source": [
        "mean1b = [0, 0]\n",
        "cov1b = [[0.6, 0], [0, 0.6]]\n",
        "x1b, y1b = np.random.multivariate_normal(mean1b, cov1b, 100).T\n",
        "\n",
        "mean2b = [2, 2]\n",
        "cov2b = [[0.8, 0], [0, 0.8]]\n",
        "x2b, y2b = np.random.multivariate_normal(mean2b, cov2b, 20).T"
      ],
      "metadata": {
        "id": "hFMXmhHmKbzI"
      },
      "execution_count": null,
      "outputs": []
    },
    {
      "cell_type": "code",
      "source": [
        "plt.scatter(x1b, y1b, color='r', label='class1')\n",
        "plt.scatter(x2b, y2b, color='b', label='class2')\n",
        "plt.xlabel('x')\n",
        "plt.ylabel('y')\n",
        "plt.legend()\n",
        "plt.show()"
      ],
      "metadata": {
        "colab": {
          "base_uri": "https://localhost:8080/",
          "height": 279
        },
        "id": "0Ii130IOLCiI",
        "outputId": "a60f4b89-a428-42bf-e49c-2f579158e396"
      },
      "execution_count": null,
      "outputs": [
        {
          "output_type": "display_data",
          "data": {
            "text/plain": [
              "<Figure size 432x288 with 1 Axes>"
            ],
            "image/png": "[encoded data removed]"
          },
          "metadata": {
            "needs_background": "light"
          }
        }
      ]
    },
    {
      "cell_type": "code",
      "source": [
        "# Class one:1, Class 2:-1\n",
        "t1b = np.ones_like(x1b)\n",
        "t2b = np.ones_like(x2b)*-1"
      ],
      "metadata": {
        "id": "jj6wVrWcNOLp"
      },
      "execution_count": null,
      "outputs": []
    },
    {
      "cell_type": "code",
      "source": [
        "Xb = np.append(x1b, x2b)\n",
        "yb = np.append(y1b, y2b)\n",
        "t_b = np.append(t1b, t2b)\n",
        "\n",
        "t_b.shape"
      ],
      "metadata": {
        "id": "AD_gxbv1M4Hb",
        "colab": {
          "base_uri": "https://localhost:8080/"
        },
        "outputId": "1dfd62bd-5dd5-47f4-fc4c-31f15bd575dd"
      },
      "execution_count": null,
      "outputs": [
        {
          "output_type": "execute_result",
          "data": {
            "text/plain": [
              "(120,)"
            ]
          },
          "metadata": {},
          "execution_count": 85
        }
      ]
    },
    {
      "cell_type": "code",
      "source": [
        "data_b = np.stack((Xb, yb), axis=-1)\n",
        "\n",
        "data_b.shape"
      ],
      "metadata": {
        "colab": {
          "base_uri": "https://localhost:8080/"
        },
        "id": "z59iLsAZvs0K",
        "outputId": "30a6d686-278d-450f-eaef-62b3acb08960"
      },
      "execution_count": null,
      "outputs": [
        {
          "output_type": "execute_result",
          "data": {
            "text/plain": [
              "(120, 2)"
            ]
          },
          "metadata": {},
          "execution_count": 84
        }
      ]
    },
    {
      "cell_type": "markdown",
      "source": [
        "#AdaLine"
      ],
      "metadata": {
        "id": "_KOr_MseRzCb"
      }
    },
    {
      "cell_type": "code",
      "source": [
        "def initialize_weights(X):\n",
        "  w = np.random.normal(loc=0, scale=0.01, size=1+X.shape[1])\n",
        "  \n",
        "  return w"
      ],
      "metadata": {
        "id": "9mnM-WmU8rgm"
      },
      "execution_count": null,
      "outputs": []
    },
    {
      "cell_type": "code",
      "source": [
        "def net(X, w):\n",
        "  '''\n",
        "  w[1:] represents weight terms and w[0] is bias term\n",
        "  '''\n",
        "  return np.dot(X, w[1:]) + w[0]"
      ],
      "metadata": {
        "id": "51mJh6tVSWAM"
      },
      "execution_count": null,
      "outputs": []
    },
    {
      "cell_type": "code",
      "source": [
        "def predict(X, w):\n",
        "\n",
        "  return np.where(net(X, w)>=0, 1, -1)"
      ],
      "metadata": {
        "id": "gmL-sa2_TOBf"
      },
      "execution_count": null,
      "outputs": []
    },
    {
      "cell_type": "code",
      "source": [
        "def fit(X, t, lr, num_iter):\n",
        "  err = []\n",
        "  w = initialize_weights(X)\n",
        "  for i in range(num_iter):\n",
        "    nett = net(X, w)\n",
        "    error = 1/2 * (t - nett)**2\n",
        "    w[0] += lr * (t - nett).sum()\n",
        "    w[1:] += lr * (X.T @ (t - nett))\n",
        "    err.append(error.sum()/len(t)) \n",
        "\n",
        "  return w, err"
      ],
      "metadata": {
        "id": "09uUIebyT03z"
      },
      "execution_count": null,
      "outputs": []
    },
    {
      "cell_type": "markdown",
      "source": [
        "##a."
      ],
      "metadata": {
        "id": "iKMVF-QlZHfm"
      }
    },
    {
      "cell_type": "code",
      "source": [
        "lr = 0.0001\n",
        "num_iter = 100\n",
        "\n",
        "w_a, err_a = fit(data_a, t_a, lr, num_iter)"
      ],
      "metadata": {
        "id": "184TTIUnVbcM"
      },
      "execution_count": null,
      "outputs": []
    },
    {
      "cell_type": "code",
      "source": [
        "plt.plot(err_a)\n",
        "plt.title(f'minimum value:{min(err_a)}')\n",
        "plt.xlabel('epochs')\n",
        "plt.ylabel('1/2 * (t-net)^2');"
      ],
      "metadata": {
        "colab": {
          "base_uri": "https://localhost:8080/",
          "height": 295
        },
        "id": "mX3YnOiNYXWQ",
        "outputId": "85a0849b-cfe6-4679-b0b5-40c9525a52eb"
      },
      "execution_count": null,
      "outputs": [
        {
          "output_type": "display_data",
          "data": {
            "text/plain": [
              "<Figure size 432x288 with 1 Axes>"
            ],
            "image/png": "[encoded data removed]"
          },
          "metadata": {
            "needs_background": "light"
          }
        }
      ]
    },
    {
      "cell_type": "code",
      "source": [
        "b_a = w_a[0]\n",
        "w1_a = w_a[1]\n",
        "w2_a = w_a[2]"
      ],
      "metadata": {
        "id": "pHNE_emXd5bW"
      },
      "execution_count": null,
      "outputs": []
    },
    {
      "cell_type": "code",
      "source": [
        "c_a = -b_a/w2_a\n",
        "m_a = -w1_a/w2_a\n",
        "xd_a = np.array([-2.5, 3])\n",
        "yd_a = m_a*xd_a + c_a"
      ],
      "metadata": {
        "id": "-Oh4fEOqe6OS"
      },
      "execution_count": null,
      "outputs": []
    },
    {
      "cell_type": "code",
      "source": [
        "plt.scatter(x1a, y1a, color='r', label='class1')\n",
        "plt.scatter(x2a, y2a, color='b', label='class2')\n",
        "plt.plot(xd_a, yd_a, c='y')\n",
        "plt.title('section (a) dataset with decision boundary')\n",
        "plt.xlabel('x')\n",
        "plt.ylabel('y')\n",
        "plt.legend()\n",
        "plt.show()"
      ],
      "metadata": {
        "colab": {
          "base_uri": "https://localhost:8080/",
          "height": 295
        },
        "id": "Ir4osM4zayVg",
        "outputId": "562cb5dc-e66b-420b-e74f-07e4d69c792d"
      },
      "execution_count": null,
      "outputs": [
        {
          "output_type": "display_data",
          "data": {
            "text/plain": [
              "<Figure size 432x288 with 1 Axes>"
            ],
            "image/png": "[encoded data removed]"
          },
          "metadata": {
            "needs_background": "light"
          }
        }
      ]
    },
    {
      "cell_type": "markdown",
      "source": [
        "# b."
      ],
      "metadata": {
        "id": "HGTAL8lggd52"
      }
    },
    {
      "cell_type": "code",
      "source": [
        "w_b, err_b = fit(data_b, t_b, lr, num_iter=350)"
      ],
      "metadata": {
        "id": "j6vR4v0pffuM"
      },
      "execution_count": null,
      "outputs": []
    },
    {
      "cell_type": "code",
      "source": [
        "plt.plot(err_b)\n",
        "plt.title(f'minimum value:{min(err_b)}')\n",
        "plt.xlabel('epochs')\n",
        "plt.ylabel('1/2 * (t-net)^2');"
      ],
      "metadata": {
        "colab": {
          "base_uri": "https://localhost:8080/",
          "height": 295
        },
        "id": "02QnJgzFgmrl",
        "outputId": "f0c730e6-49f1-49ee-d50a-0a1d12f9db41"
      },
      "execution_count": null,
      "outputs": [
        {
          "output_type": "display_data",
          "data": {
            "text/plain": [
              "<Figure size 432x288 with 1 Axes>"
            ],
            "image/png": "[encoded data removed]"
          },
          "metadata": {
            "needs_background": "light"
          }
        }
      ]
    },
    {
      "cell_type": "code",
      "source": [
        "b_b = w_b[0]\n",
        "w1_b = w_b[1]\n",
        "w2_b = w_b[2]\n",
        "\n",
        "c_b = -b_b/w2_b\n",
        "m_b = -w1_b/w2_b\n",
        "xd_b = np.array([-2.0, 4.5])\n",
        "yd_b = m_b*xd_b + c_b"
      ],
      "metadata": {
        "id": "JzYVRNGIgnRW"
      },
      "execution_count": null,
      "outputs": []
    },
    {
      "cell_type": "code",
      "source": [
        "plt.scatter(x1b, y1b, color='r', label='class1')\n",
        "plt.scatter(x2b, y2b, color='b', label='class2')\n",
        "plt.plot(xd_b, yd_b, c='y')\n",
        "plt.title('section (b) dataset with decision boundary')\n",
        "plt.xlabel('x')\n",
        "plt.ylabel('y')\n",
        "plt.legend()\n",
        "plt.show()"
      ],
      "metadata": {
        "colab": {
          "base_uri": "https://localhost:8080/",
          "height": 295
        },
        "id": "KQ2yRCuXhlAw",
        "outputId": "d970ab17-5309-4f74-d1c3-b59425bb6974"
      },
      "execution_count": null,
      "outputs": [
        {
          "output_type": "display_data",
          "data": {
            "text/plain": [
              "<Figure size 432x288 with 1 Axes>"
            ],
            "image/png": "[encoded data removed]"
          },
          "metadata": {
            "needs_background": "light"
          }
        }
      ]
    },
    {
      "cell_type": "code",
      "source": [],
      "metadata": {
        "id": "xQDRCPvtz-1I"
      },
      "execution_count": null,
      "outputs": []
    }
  ]
}